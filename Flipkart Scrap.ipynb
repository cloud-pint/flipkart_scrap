{
 "cells": [
  {
   "cell_type": "markdown",
   "id": "8c0dd33e-9c31-4d1c-b183-e92289429061",
   "metadata": {},
   "source": [
    "# Selenium and BeautifulSoup"
   ]
  },
  {
   "cell_type": "code",
   "execution_count": 2,
   "id": "12412648-27fc-4073-884c-32c188340ea2",
   "metadata": {},
   "outputs": [],
   "source": [
    "from selenium import webdriver \n",
    "from bs4 import BeautifulSoup \n",
    "import time"
   ]
  },
  {
   "cell_type": "code",
   "execution_count": 5,
   "id": "bd6338c0-2170-4602-a85a-1193294c7e7b",
   "metadata": {},
   "outputs": [],
   "source": [
    "from selenium import webdriver"
   ]
  },
  {
   "cell_type": "code",
   "execution_count": 10,
   "id": "c01628d9-bb64-4287-82bc-62055b7c7fb8",
   "metadata": {},
   "outputs": [
    {
     "name": "stdin",
     "output_type": "stream",
     "text": [
      "Enter device Laptop\n"
     ]
    }
   ],
   "source": [
    "user_input=input('Enter device')"
   ]
  },
  {
   "cell_type": "code",
   "execution_count": 18,
   "id": "55433b3d-b677-4ef0-98c5-df9b6ca7e2bd",
   "metadata": {},
   "outputs": [],
   "source": [
    "url=f'https://www.flipkart.com/search?q=(user_input)&otracker=search&otracker1=search&marketplace=FLIPKART&as-show=on&as=off'"
   ]
  },
  {
   "cell_type": "code",
   "execution_count": 14,
   "id": "e72824ef-604e-42cb-95ab-317d26c9dda7",
   "metadata": {},
   "outputs": [],
   "source": [
    "driver=webdriver.Chrome()"
   ]
  },
  {
   "cell_type": "code",
   "execution_count": 20,
   "id": "46708741-8d2f-4953-9bf1-1daeaa5b2213",
   "metadata": {},
   "outputs": [],
   "source": [
    "driver.get(url)"
   ]
  },
  {
   "cell_type": "code",
   "execution_count": 24,
   "id": "00130e94-66d2-4157-9c12-c798f02cbf46",
   "metadata": {},
   "outputs": [],
   "source": [
    "soup=BeautifulSoup(driver.page_source,'html.parser')"
   ]
  },
  {
   "cell_type": "code",
   "execution_count": 26,
   "id": "6e147ec0-1fce-408d-85b7-f29bea6ad274",
   "metadata": {},
   "outputs": [],
   "source": [
    "name=\"KzDlHZ\"\n",
    "price=\"Nx9bqj _4b5DiR\"\n",
    "rating=\"XQDdHH\"\n",
    "specifications=\"J+igdf\""
   ]
  },
  {
   "cell_type": "code",
   "execution_count": 30,
   "id": "25c672ee-aa12-4c5a-8747-344322df79e3",
   "metadata": {},
   "outputs": [],
   "source": [
    "all_names=soup.find_all(class_=name)\n",
    "all_price=soup.find_all(class_=price)\n",
    "all_rating=soup.find_all(class_=rating)\n",
    "all_specifications=soup.find_all(class_=specifications)"
   ]
  },
  {
   "cell_type": "code",
   "execution_count": 32,
   "id": "ae9421a3-9401-4654-bae9-47de1dd706a3",
   "metadata": {},
   "outputs": [
    {
     "data": {
      "text/plain": [
       "[<div class=\"KzDlHZ\">CHUWI Intel Celeron Dual Core 11th Gen N4020 - (8 GB/256 GB SSD/Windows 11 Home) HeroBook Pro Laptop</div>,\n",
       " <div class=\"KzDlHZ\">CHUWI Intel Celeron Dual Core 10th Gen N4020 - (4 GB/128 GB SSD/Windows 11 Home) HeroBook Air Laptop</div>,\n",
       " <div class=\"KzDlHZ\">Acer One Intel Core i3 11th Gen 1115G4 - (8 GB/512 GB SSD/Windows 11 Home) AO 14 Z 8-415 Thin and Ligh...</div>,\n",
       " <div class=\"KzDlHZ\">DELL Inspiron 3520 Intel Core i3 12th Gen 1215U - (8 GB/512 GB SSD/Windows 11 Home) New Inspiron 15 La...</div>,\n",
       " <div class=\"KzDlHZ\">HP 15s AMD Ryzen 3 Quad Core 5300U - (8 GB/512 GB SSD/Windows 11 Home) 15s-eq2143au Thin and Light Lap...</div>,\n",
       " <div class=\"KzDlHZ\">CHUWI Intel Celeron Dual Core 11th Gen N4020 - (8 GB/256 GB SSD/Windows 11 Home) HeroBook Plus Laptop</div>,\n",
       " <div class=\"KzDlHZ\">HP AMD Ryzen 5 Hexa Core 5500U - (16 GB/512 GB SSD/Windows 11 Home) 15s- eq2182AU Thin and Light Lapto...</div>,\n",
       " <div class=\"KzDlHZ\">Lenovo IdeaPad Slim 1 AMD Ryzen 5 Hexa Core 5500U - (8 GB/512 GB SSD/Windows 11 Home) 15ACL6 | 15ALC7 ...</div>,\n",
       " <div class=\"KzDlHZ\">MSI Modern 14 AMD Ryzen 5 Hexa Core 7530U - (16 GB/512 GB SSD/Windows 11 Home) Modern 14 C7M-062IN Thi...</div>,\n",
       " <div class=\"KzDlHZ\">HP Chromebook MediaTek MT8183 - (4 GB/32 GB EMMC Storage/Chrome OS) 11MK G9 EE Chromebook Laptop</div>,\n",
       " <div class=\"KzDlHZ\">CHUWI Intel Core i5 10th Gen 1035G1 - (16 GB/512 GB SSD/Windows 11 Home) CoreBook X Grey Laptop</div>,\n",
       " <div class=\"KzDlHZ\">CHUWI Intel Celeron Quad Core 12th Gen N100 - (8 GB/256 GB SSD/Windows 11 Home) GemiBook Plus Laptop</div>,\n",
       " <div class=\"KzDlHZ\">HP Intel Core i3 12th Gen 1215U - (8 GB/512 GB SSD/Windows 11 Home) 14s-dq5138tu Thin and Light Laptop</div>,\n",
       " <div class=\"KzDlHZ\">SAMSUNG Galaxy Book4 Intel Core i7 13th Gen 1355U - (16 GB/512 GB SSD/Windows 11 Home) NP750XGJ-KG3IN ...</div>,\n",
       " <div class=\"KzDlHZ\">Acer Aspire 7 Intel Core i5 12th Gen 12450H - (16 GB/512 GB SSD/Windows 11 Home/4 GB Graphics/NVIDIA G...</div>,\n",
       " <div class=\"KzDlHZ\">Acer Aspire 3 Intel Celeron Dual Core N4500 - (8 GB/512 GB SSD/Windows 11 Home) A324-45 Thin and Light...</div>,\n",
       " <div class=\"KzDlHZ\">MSI Thin 15 Intel Core i5 12th Gen 12450H - (16 GB/512 GB SSD/Windows 11 Home/4 GB Graphics/NVIDIA GeF...</div>,\n",
       " <div class=\"KzDlHZ\">Acer Aspire 3 Intel Core i3 12th Gen 1215U - (8 GB/512 GB SSD/Windows 11 Home) A324-51 Thin and Light ...</div>,\n",
       " <div class=\"KzDlHZ\">Lenovo AMD Ryzen 3 Quad Core 7330U - (8 GB/512 GB SSD/Windows 11 Home) ThinkBook 15 G5 Thin and Light ...</div>,\n",
       " <div class=\"KzDlHZ\">Lenovo ThinkBook 15 G5 AMD Ryzen 7 Octa Core 7730U - (16 GB/512 GB SSD/Windows 11 Home) ThinkBook 15 G...</div>,\n",
       " <div class=\"KzDlHZ\">Lenovo AMD Ryzen 3 Quad Core 7330U - (8 GB/512 GB SSD/Windows 11 Home) ThinkBook 15 G5 Thin and Light ...</div>,\n",
       " <div class=\"KzDlHZ\">HP Chromebook Intel Celeron Quad Core N4120 - (4 GB/64 GB EMMC Storage/Chrome OS) 14a-ca0504TU Chromeb...</div>,\n",
       " <div class=\"KzDlHZ\">ASUS Vivobook 15 Intel Core i3 12th Gen 1215U - (8 GB/512 GB SSD/Windows 11 Home) X1502ZA-EJ953WS Thin...</div>,\n",
       " <div class=\"KzDlHZ\">Acer Aspire Lite with Backlit Keyboard, AMD Ryzen 5 Hexa Core 5500U - (16 GB/512 GB SSD/Windows 11 Hom...</div>]"
      ]
     },
     "execution_count": 32,
     "metadata": {},
     "output_type": "execute_result"
    }
   ],
   "source": [
    "name_list=[]\n",
    "for i in all_names:\n",
    "    name_list.append(i.text)\n",
    "price_list=[]\n",
    "for i in all_price:\n",
    "    price_list.append(i.text)\n",
    "rating_list=[]\n",
    "for i in all_na:\n",
    "    rating_list.append(i.text)\n",
    "specifications_list=[]\n",
    "for i in all_names:\n",
    "    name_list.append(i.text)"
   ]
  },
  {
   "cell_type": "code",
   "execution_count": null,
   "id": "1a67f6e9-0309-41c9-9c86-bd4734525cc5",
   "metadata": {},
   "outputs": [],
   "source": []
  }
 ],
 "metadata": {
  "kernelspec": {
   "display_name": "Python 3 (ipykernel)",
   "language": "python",
   "name": "python3"
  },
  "language_info": {
   "codemirror_mode": {
    "name": "ipython",
    "version": 3
   },
   "file_extension": ".py",
   "mimetype": "text/x-python",
   "name": "python",
   "nbconvert_exporter": "python",
   "pygments_lexer": "ipython3",
   "version": "3.12.4"
  }
 },
 "nbformat": 4,
 "nbformat_minor": 5
}
